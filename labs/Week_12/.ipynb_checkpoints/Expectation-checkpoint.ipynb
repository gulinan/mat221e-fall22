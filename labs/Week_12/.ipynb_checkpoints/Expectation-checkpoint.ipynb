{
 "cells": [
  {
   "cell_type": "markdown",
   "id": "30b5d361-1900-4fa3-a590-4ae760aabf09",
   "metadata": {},
   "source": [
    "# Expectation"
   ]
  },
  {
   "cell_type": "markdown",
   "id": "d3839101-ead5-434a-892c-b2a607c5a5e1",
   "metadata": {},
   "source": [
    "Generate pseudo data from normal distribution with mean 3 and sd 5"
   ]
  },
  {
   "cell_type": "code",
   "execution_count": 7,
   "id": "6e7dd1a1-2923-45d4-9ffe-266d1f98b828",
   "metadata": {
    "tags": []
   },
   "outputs": [
    {
     "name": "stdout",
     "output_type": "stream",
     "text": [
      "2.9557\n"
     ]
    }
   ],
   "source": [
    "# Generate pseudo data from normal distribution with mean 3 and sd 5\n",
    "import numpy as np\n",
    "N = 100000\n",
    "mu, sigma = 3, 5 # mean and standard deviation\n",
    "data = np.random.normal(mu, sigma, N)\n",
    "avg = np.mean(data)\n",
    "print(\"%.4f\"%avg)"
   ]
  },
  {
   "cell_type": "code",
   "execution_count": 3,
   "id": "a308ae27-208e-416b-bd21-e2488cc82287",
   "metadata": {},
   "outputs": [
    {
     "data": {
      "image/png": "[encoded data removed]",
      "text/plain": [
       "<Figure size 432x288 with 1 Axes>"
      ]
     },
     "metadata": {
      "needs_background": "light"
     },
     "output_type": "display_data"
    }
   ],
   "source": [
    "import matplotlib.pyplot as plt\n",
    "count, bins, ignored = plt.hist(data, 10, density=True)"
   ]
  },
  {
   "cell_type": "markdown",
   "id": "cae488e5-37cd-49bd-98f8-817fcef0b1a5",
   "metadata": {},
   "source": [
    "# Expectation of two random variables"
   ]
  },
  {
   "cell_type": "code",
   "execution_count": 6,
   "id": "9df95ddd-659c-4306-8126-8ffa478bdb4e",
   "metadata": {},
   "outputs": [
    {
     "name": "stdout",
     "output_type": "stream",
     "text": [
      "3.0046\n"
     ]
    }
   ],
   "source": [
    "import numpy as np\n",
    "N = 100000\n",
    "# Generate pseudo data from normal distribution with mean 3 and sd 2\n",
    "mu_1, sigma_1 = 3, 2 # mean and standard deviation\n",
    "data_1 = np.random.normal(mu_1, sigma_1, N)\n",
    "avg_1 = np.mean(data_1)\n",
    "print(\"%.4f\"%avg_1)"
   ]
  },
  {
   "cell_type": "code",
   "execution_count": 7,
   "id": "cad8b9c3-bd90-413b-9e9e-1817cc1df141",
   "metadata": {},
   "outputs": [
    {
     "name": "stdout",
     "output_type": "stream",
     "text": [
      "7.0040\n"
     ]
    }
   ],
   "source": [
    "# Generate pseudo data from normal distribution with mean 5 and sd 2\n",
    "mu_2, sigma_2 = 7, 2 # mean and standard deviation\n",
    "data_2 = np.random.normal(mu_2, sigma_2, N)\n",
    "avg_2 = np.mean(data_2)\n",
    "print(\"%.4f\"%avg_2)"
   ]
  },
  {
   "cell_type": "code",
   "execution_count": 8,
   "id": "4f92d5cc-c567-46bd-aae1-55274683fa3e",
   "metadata": {},
   "outputs": [
    {
     "name": "stdout",
     "output_type": "stream",
     "text": [
      "10.0086\n"
     ]
    }
   ],
   "source": [
    "# Sum two data sets, and then get the average of these two\n",
    "summed_data = data_1 + data_2\n",
    "avg_merged = np.mean(summed_data)\n",
    "print(\"%.4f\"%avg_merged)"
   ]
  },
  {
   "cell_type": "markdown",
   "id": "db2b197f-fef6-4995-a03d-c76fb45dcf95",
   "metadata": {},
   "source": [
    "# $E(cX) = c E(X)$"
   ]
  },
  {
   "cell_type": "code",
   "execution_count": 9,
   "id": "c7038f35-3849-4ce9-9787-c3880432209f",
   "metadata": {},
   "outputs": [
    {
     "name": "stdout",
     "output_type": "stream",
     "text": [
      "15.0228\n"
     ]
    }
   ],
   "source": [
    "# multiply the first data set with a constant\n",
    "factor_c_data = data_1 * 5\n",
    "avg_c_f = np.mean(factor_c_data)\n",
    "print(\"%.4f\"%avg_c_f)"
   ]
  },
  {
   "cell_type": "markdown",
   "id": "d230d784-6ce6-450c-a99f-c673a6427f1d",
   "metadata": {},
   "source": [
    "# $E(X + c) = E(X) + c$"
   ]
  },
  {
   "cell_type": "code",
   "execution_count": 10,
   "id": "dfe6d66f-0e12-4e14-8d42-7eef56dce709",
   "metadata": {},
   "outputs": [
    {
     "name": "stdout",
     "output_type": "stream",
     "text": [
      "8.0046\n"
     ]
    }
   ],
   "source": [
    "# add a constant c to the first data set \n",
    "add_c_data = data_1 + 5\n",
    "avg_c_a = np.mean(add_c_data)\n",
    "print(\"%.4f\"%avg_c_a)"
   ]
  },
  {
   "cell_type": "markdown",
   "id": "a3914914-126c-4503-8727-7d4ad4cda17c",
   "metadata": {},
   "source": [
    "# Variance and standard deviation"
   ]
  },
  {
   "cell_type": "code",
   "execution_count": 11,
   "id": "aa3ae4b7-ad24-4b53-bb14-5c06c4c95d33",
   "metadata": {},
   "outputs": [
    {
     "name": "stdout",
     "output_type": "stream",
     "text": [
      "4.0322\n",
      "2.0080\n"
     ]
    }
   ],
   "source": [
    "# Generate pseudo data from normal distribution with mean 3 and different variances\n",
    "import numpy as np\n",
    "N = 100000\n",
    "# Generate pseudo data from normal distribution with mean 3 and sd 2\n",
    "mu_1, sigma_1 = 3, 2 # mean and standard deviation\n",
    "data_1 = np.random.normal(mu_1, sigma_1, N)\n",
    "var = np.var(data_1)\n",
    "print(\"%.4f\"%var)\n",
    "sd = np.std(data_1)\n",
    "print(\"%.4f\"%sd)"
   ]
  },
  {
   "cell_type": "code",
   "execution_count": 76,
   "id": "7b92b91f-c3b7-4252-8559-2ad7ad8d8cb0",
   "metadata": {},
   "outputs": [
    {
     "data": {
      "image/png": "[encoded data removed]",
      "text/plain": [
       "<Figure size 432x288 with 1 Axes>"
      ]
     },
     "metadata": {
      "needs_background": "light"
     },
     "output_type": "display_data"
    }
   ],
   "source": [
    "# follow the range of the data values on the horizontal axis, for different values of sigma\n",
    "import matplotlib.pyplot as plt\n",
    "count, bins, ignored = plt.hist(data_1, 10, density=True)"
   ]
  },
  {
   "cell_type": "markdown",
   "id": "2143927a-4ecb-4382-b6fd-8a440f9ce659",
   "metadata": {},
   "source": [
    "# $Var(cX) = c^2 Var(X)$"
   ]
  },
  {
   "cell_type": "code",
   "execution_count": 21,
   "id": "b5b7a2b6-6d8f-460b-ac58-ca1c83a9d000",
   "metadata": {},
   "outputs": [
    {
     "name": "stdout",
     "output_type": "stream",
     "text": [
      "35.98\n"
     ]
    }
   ],
   "source": [
    "import numpy as np\n",
    "N = 100000\n",
    "# Generate pseudo data from normal distribution with mean 3 and sd 2\n",
    "mu_1, sigma_1 = 3, 2 # mean and standard deviation\n",
    "data_1 = np.random.normal(mu_1, sigma_1, N)\n",
    "data_1c_f =  data_1 * 3\n",
    "var_cf = np.var(data_1c_f)\n",
    "print(\"%.4f\"%var_cf)"
   ]
  },
  {
   "cell_type": "markdown",
   "id": "a6c50128-8bde-470c-8e66-7d6a6b224e3c",
   "metadata": {},
   "source": [
    "# $Var(X + c) = Var(X)$"
   ]
  },
  {
   "cell_type": "code",
   "execution_count": 22,
   "id": "66ba95fc-c29c-4d00-bc14-d40c0586d7d2",
   "metadata": {},
   "outputs": [
    {
     "name": "stdout",
     "output_type": "stream",
     "text": [
      "4.00\n"
     ]
    }
   ],
   "source": [
    "data_1c_a =  data_1 + 3\n",
    "var_ca = np.var(data_1c_a)\n",
    "print(\"%.4f\"%var_ca)"
   ]
  }
 ],
 "metadata": {
  "kernelspec": {
   "display_name": "Python 3 (ipykernel)",
   "language": "python",
   "name": "python3"
  },
  "language_info": {
   "codemirror_mode": {
    "name": "ipython",
    "version": 3
   },
   "file_extension": ".py",
   "mimetype": "text/x-python",
   "name": "python",
   "nbconvert_exporter": "python",
   "pygments_lexer": "ipython3",
   "version": "3.8.12"
  }
 },
 "nbformat": 4,
 "nbformat_minor": 5
}
