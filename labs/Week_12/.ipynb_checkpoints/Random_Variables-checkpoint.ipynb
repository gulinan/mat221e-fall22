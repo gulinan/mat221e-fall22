{
 "cells": [
  {
   "cell_type": "markdown",
   "id": "01eb7028-9409-4db8-8622-36cefb77a567",
   "metadata": {},
   "source": [
    "# MPF"
   ]
  },
  {
   "cell_type": "code",
   "execution_count": 1,
   "id": "dd081447-d58d-4e10-9536-073c41e63a1c",
   "metadata": {},
   "outputs": [
    {
     "name": "stdout",
     "output_type": "stream",
     "text": [
      "[1 2 3 4 5 6 7 8 9]\n",
      "[0.5        0.25       0.125      0.0625     0.03125    0.015625\n",
      " 0.0078125  0.00390625 0.00195312]\n"
     ]
    }
   ],
   "source": [
    "import numpy as np\n",
    "k_value = np.array(range(1,10))\n",
    "print(k_value)\n",
    "prob_value = pow(0.5, k_value)\n",
    "print(prob_value)"
   ]
  },
  {
   "cell_type": "code",
   "execution_count": 2,
   "id": "557d2340-a80e-49c2-a7e0-2058b4549ca0",
   "metadata": {},
   "outputs": [
    {
     "data": {
      "image/png": "[encoded data removed]",
      "text/plain": [
       "<Figure size 432x288 with 1 Axes>"
      ]
     },
     "metadata": {
      "needs_background": "light"
     },
     "output_type": "display_data"
    }
   ],
   "source": [
    "import matplotlib.pyplot as plt\n",
    "plt.stem(k_value,prob_value); plt.show()"
   ]
  },
  {
   "cell_type": "markdown",
   "id": "58e4f1ff-472e-40c9-b0ed-5cf9fe5ba639",
   "metadata": {},
   "source": [
    "# PMF vs Histogram"
   ]
  },
  {
   "cell_type": "code",
   "execution_count": 3,
   "id": "37ba3e81-e115-40a8-9c88-c481fb4088b5",
   "metadata": {},
   "outputs": [
    {
     "name": "stdout",
     "output_type": "stream",
     "text": [
      "[0.0625 0.25   0.375  0.25   0.0625]\n",
      "[0 1 2 3 4]\n"
     ]
    }
   ],
   "source": [
    "import numpy as np\n",
    "prob = np.array([1/16,4/16,6/16,4/16,1/16])\n",
    "print(prob)\n",
    "x = np.array([0,1,2,3,4])\n",
    "print(x)"
   ]
  },
  {
   "cell_type": "code",
   "execution_count": 4,
   "id": "125addfa-9bbe-4336-a54d-2bcaf321cf8c",
   "metadata": {},
   "outputs": [
    {
     "data": {
      "image/png": "[encoded data removed]",
      "text/plain": [
       "<Figure size 432x288 with 1 Axes>"
      ]
     },
     "metadata": {
      "needs_background": "light"
     },
     "output_type": "display_data"
    }
   ],
   "source": [
    "import matplotlib.pyplot as plt\n",
    "count, bins, ignored = plt.hist(x, 5, weights= prob, align='left')"
   ]
  },
  {
   "cell_type": "markdown",
   "id": "79fac280-d9d4-4440-b1f7-6b1e269dd7a5",
   "metadata": {},
   "source": [
    "# CDF"
   ]
  },
  {
   "cell_type": "code",
   "execution_count": 10,
   "id": "935d55e7-b745-42f0-8b74-2b12a7de249c",
   "metadata": {},
   "outputs": [
    {
     "data": {
      "image/png": "[encoded data removed]",
      "text/plain": [
       "<Figure size 432x288 with 1 Axes>"
      ]
     },
     "metadata": {
      "needs_background": "light"
     },
     "output_type": "display_data"
    }
   ],
   "source": [
    "# Python code to generate a MPF and a CDF\n",
    "import numpy as np\n",
    "import matplotlib.pyplot as plt\n",
    "prob = np.array([0.25,0.5, 0.25])\n",
    "x_value = np.array([0,1,4])\n",
    "cum_prob = np.cumsum(prob)\n",
    "plt.stem(x_value,prob); plt.show()"
   ]
  },
  {
   "cell_type": "code",
   "execution_count": 11,
   "id": "bfb5eff3-67a2-463a-9d35-caab57c93dc7",
   "metadata": {},
   "outputs": [
    {
     "data": {
      "image/png": "[encoded data removed]",
      "text/plain": [
       "<Figure size 432x288 with 1 Axes>"
      ]
     },
     "metadata": {
      "needs_background": "light"
     },
     "output_type": "display_data"
    }
   ],
   "source": [
    "plt.step(x_value,cum_prob); plt.show()"
   ]
  },
  {
   "cell_type": "markdown",
   "id": "b9e89246-34a9-440a-a168-42ef3f46ae32",
   "metadata": {},
   "source": [
    "# Expectation"
   ]
  },
  {
   "cell_type": "markdown",
   "id": "06c8a61c-2c45-481c-b35d-4f092cb23d4a",
   "metadata": {},
   "source": [
    "Generate pseudo data from normal distribution with mean 3 and sd 5"
   ]
  },
  {
   "cell_type": "code",
   "execution_count": 3,
   "id": "1612cce0-9cc7-4f1f-b069-6458be4ee609",
   "metadata": {},
   "outputs": [
    {
     "name": "stdout",
     "output_type": "stream",
     "text": [
      "2.553150563842874\n"
     ]
    }
   ],
   "source": [
    "# Generate pseudo data from normal distribution with mean 3 and sd 5\n",
    "import numpy as np\n",
    "mu, sigma = 3, 5 # mean and standard deviation\n",
    "N = 100\n",
    "data = np.random.normal(mu, sigma, N)\n",
    "avg = np.mean(data)\n",
    "print(avg)"
   ]
  },
  {
   "cell_type": "code",
   "execution_count": 4,
   "id": "cd71bcea-fbcb-44d7-a4bc-4852e0ce6ae8",
   "metadata": {},
   "outputs": [
    {
     "data": {
      "image/png": "[encoded data removed]",
      "text/plain": [
       "<Figure size 432x288 with 1 Axes>"
      ]
     },
     "metadata": {
      "needs_background": "light"
     },
     "output_type": "display_data"
    }
   ],
   "source": [
    "import matplotlib.pyplot as plt\n",
    "count, bins, ignored = plt.hist(data, 10, density=True)"
   ]
  },
  {
   "cell_type": "code",
   "execution_count": null,
   "id": "af842bef-dc94-4160-b9ec-78dd3263961a",
   "metadata": {},
   "outputs": [],
   "source": []
  }
 ],
 "metadata": {
  "kernelspec": {
   "display_name": "Python 3 (ipykernel)",
   "language": "python",
   "name": "python3"
  },
  "language_info": {
   "codemirror_mode": {
    "name": "ipython",
    "version": 3
   },
   "file_extension": ".py",
   "mimetype": "text/x-python",
   "name": "python",
   "nbconvert_exporter": "python",
   "pygments_lexer": "ipython3",
   "version": "3.8.12"
  }
 },
 "nbformat": 4,
 "nbformat_minor": 5
}
