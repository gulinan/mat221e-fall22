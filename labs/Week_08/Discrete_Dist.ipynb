{
 "cells": [
  {
   "cell_type": "markdown",
   "id": "71da1358-387b-448e-ad3b-e0b410a794bc",
   "metadata": {
    "tags": []
   },
   "source": [
    "# Bernoulli Distribution"
   ]
  },
  {
   "cell_type": "code",
   "execution_count": 8,
   "id": "6600d487-245f-493a-b586-3e71a971861b",
   "metadata": {},
   "outputs": [],
   "source": [
    "# Generate pseudo data from Bernoulli distribution with p = 0.8.\n",
    "import numpy as np\n",
    "p = 0.8 # success prob #change this value and see the difference \n",
    "n = 1\n",
    "X = np.random.binomial(n, p, size= 1000)\n",
    "#print(X)"
   ]
  },
  {
   "cell_type": "code",
   "execution_count": 9,
   "id": "b49d80f9-7957-408d-9570-03591d64565c",
   "metadata": {},
   "outputs": [
    {
     "name": "stdout",
     "output_type": "stream",
     "text": [
      "0.8160\n"
     ]
    }
   ],
   "source": [
    "mean_x = np.mean(X)\n",
    "print(\"%.4f\"%mean_x)"
   ]
  },
  {
   "cell_type": "code",
   "execution_count": 10,
   "id": "68ffac08-f029-466e-a0e4-135fad31c152",
   "metadata": {},
   "outputs": [
    {
     "name": "stdout",
     "output_type": "stream",
     "text": [
      "0.1501\n"
     ]
    }
   ],
   "source": [
    "var_x = np.var(X)\n",
    "print(\"%.4f\"%var_x)"
   ]
  },
  {
   "cell_type": "code",
   "execution_count": 11,
   "id": "912b4f93-3bc4-465c-8ce4-eb24a13a057d",
   "metadata": {},
   "outputs": [
    {
     "data": {
      "image/png": "[encoded data removed]",
      "text/plain": [
       "<Figure size 432x288 with 1 Axes>"
      ]
     },
     "metadata": {
      "needs_background": "light"
     },
     "output_type": "display_data"
    }
   ],
   "source": [
    "import matplotlib.pyplot as plt\n",
    "plt.hist(X, bins=\"auto\")\n",
    "plt.title(\"PMF of Bernoulli rvs with p=0.8\")\n",
    "plt.show()"
   ]
  },
  {
   "cell_type": "code",
   "execution_count": 12,
   "id": "018ecfd3-defd-40e1-9ca8-c7e7df1e084a",
   "metadata": {},
   "outputs": [
    {
     "data": {
      "image/png": "[encoded data removed]",
      "text/plain": [
       "<Figure size 432x288 with 1 Axes>"
      ]
     },
     "metadata": {
      "needs_background": "light"
     },
     "output_type": "display_data"
    }
   ],
   "source": [
    "# Alternative: Use scipy.stats library\n",
    "import numpy as np\n",
    "import matplotlib.pyplot as plt\n",
    "import scipy.stats as stats\n",
    "p = 0.8  #change this value and see the difference\n",
    "X = stats.bernoulli.rvs(p,size=1000)\n",
    "plt.hist(X,bins='auto')\n",
    "plt.title(\"PMF of Bernoulli rvs with p=0.8\")\n",
    "plt.show()"
   ]
  },
  {
   "cell_type": "markdown",
   "id": "7a3c3c4a-b03f-4029-8c93-cc1719bc4068",
   "metadata": {},
   "source": [
    "# Binomial Distribution"
   ]
  },
  {
   "cell_type": "code",
   "execution_count": 13,
   "id": "cac51da6-2362-4f57-b04b-d0f96c2d3f88",
   "metadata": {},
   "outputs": [
    {
     "name": "stdout",
     "output_type": "stream",
     "text": [
      "[ 6  4  7  8  8  9  9  8  8  8  8  9  9  9  8  9  8  8  8  9  9  8  8  7\n",
      "  6  8  8  8 10  8  8  9  9  7  8  9  8  9  9 10  9  7  9  9 10  6  7  8\n",
      "  8  8 10  9  8  8  7  6  8  9  7 10  6  6  8  8  8  8  7  6 10  5 10  8\n",
      "  8  9  9  8  7  8 10  9  8  9  9  8  9  9  8  8  9  8  9  8  9  8  8  7\n",
      " 10  8  8  8  9  7  7  8  4  8  9  9  9  8  7  7  9  9  8 10  8  6  7  8\n",
      "  6  9  7  8  7  8  7  7 10  9  6  9  8  7  6  8  9  6  9  8  8  8 10 10\n",
      "  8  8 10  7  7  7  9  7  9  8  5  8 10  8  8  7  8  7  8  8  7  8  7  9\n",
      "  9  8  9  7  6  6  9  8 10  7  9  8  8 10  8 10  6  9  8  8  6  8  9  8\n",
      "  9  8  7 10  8 10  6  7  5 10  9  8  7 10  9 10  9 10  7  5  8  8  9  7\n",
      "  8  8  8  9  8  9 10  6  9  8  8  8 10 10  8  8  7  7  6  9  5  9  7  9\n",
      "  8 10  7  9  9  8  6  9 10  4  8  9  7  6  8  7  5  7  8  7  8  8  8  7\n",
      "  9 10  7  5  7 10  9  6  7  9  9  9  8  9  6  5  6  8  8  7  7  7  9  9\n",
      "  8  8  7  9  7  7  9  7  9  6  7  7  9  8  9  9  8  8  9  8  4  7  9 10\n",
      "  7  9  7  6  9 10  9  7  5  8  6  6  6  6  8  6  7 10  8  7  7  9  8  8\n",
      "  8  5  9  5  8  9  6  8  9  9 10  7  9  8  9  8  8  6  8 10  7  9  8 10\n",
      "  6  9  9  9  9 10 10  8  7  9 10  6  9  7  8  9  8  6 10 10  8  7  6  7\n",
      "  7  7  8  8  9  5  8 10  7  8  6  9  8  8  7  9  7  9  9  7  7  7  9  6\n",
      "  6 10  9  6  9  6  8  9 10  9  9  7  7  8  8  9  7 10  9 10  9  7  7  9\n",
      "  7  8  7  8  8 10  6  7  8  6 10 10  6  8  8  8  8  7  9  7  6  7  8 10\n",
      "  8  9  4 10  7  8 10  8  7  7  8  5  8 10  7  7  9  9  9  7  8  8  6  5\n",
      "  7  9  8 10  6  7  9  9  9  8  9  9  9  8  8  8  6  6  8  8 10  7  5 10\n",
      "  6  9  7  8  7  9  9  8 10  8 10  8  8  9  8  7  8  8  6  7  5  9  8  7\n",
      " 10  8  7  8  8  6  6  5  8 10 10 10  7  7  8  7  7  9 10  9  9  7  7  8\n",
      "  7 10  8  9 10  8  9  8  9  9 10 10  8  8  9  8  9  9  9  8  7  8  8  8\n",
      "  7  8  8  6  5  7  7 10 10  8  7  9  7  7  6  7  7 10  8  5  8  9 10  7\n",
      "  9  9  5 10 10  9  8  6  9 10  8 10  9  9  9  6  7  6 10  8  6  6  5 10\n",
      "  9  6  8 10  7  6  9 10  8 10  8  9  7 10  7  8  8  6  9  7  8  5  8  4\n",
      "  8  8 10  9  7  7  8  7  5  7  7  7  7  7 10  8 10 10  9 10 10  9  7  6\n",
      "  9  9  7  8  9  6 10  7  9 10  9  7  6  9  9  5 10  9  8  7  7  7 10  7\n",
      "  8  7  7  7  6  7  7 10  7  6  9  8  7  9  8  6  5  9  8  9  7  8  8  9\n",
      "  9  9  9  7 10  8  9  7  8  6  6  8  9  9  9  7  9 10  7 10  9  6  8  8\n",
      "  9 10  6  7  9  9  5  8  6  7  8 10  8  9  8  5 10  9  8  7  9  6  8  9\n",
      " 10  7  4  9  8  7  7  8  8  7 10 10  8  8  8  4  7  9  7 10  8  8  7  9\n",
      " 10  8  9  7  9  8  8  8 10  9  6  8  8  9  8  5  5  8  9  8 10  9  5  7\n",
      " 10  9  9 10  9  7  6  8  9  9  7  7  9  8  9 10  7 10  9  9 10  7  6  8\n",
      "  9  7  6  9  8  8  7  7  7  7  9  7  9  8  5  9  4  8  8 10  8  9  9  8\n",
      "  8  4  8  9 10  9  8  9  5  6  8  9  9  9  7  9  9  9  9  9  8  7  7  9\n",
      "  9  8  8 10  7  9  9  5  8  7  5  8  6  5  9  8  8  5  8  7  8  6  8  9\n",
      "  8  7  9  9 10  7 10  9  8  9  7  8  7  8  7  9 10  8  7  8  8  8 10  7\n",
      "  6  9  8  8  8  8  9  8  7  6  9 10 10  9  8  8  8  6  6  8  9  9  8 10\n",
      " 10  9  8  7  9  8  8  9  9  9  8  9  8  9  5  9  9  7  6  9  7  7  8  8\n",
      "  8  9  7  9  7  9 10  8  6 10  9  9  7  8  8  7]\n"
     ]
    }
   ],
   "source": [
    "# Generate pseudo data from Binomial distribution with p = 0.5.\n",
    "import numpy as np\n",
    "p = 0.8 # success prob. #change this value and see the difference\n",
    "n = 10  # number of trials\n",
    "X = np.random.binomial(n, p, size= 1000)\n",
    "#print(X)\n"
   ]
  },
  {
   "cell_type": "code",
   "execution_count": 14,
   "id": "77269b0e-c53d-45ff-822b-bd02f2eccd1f",
   "metadata": {},
   "outputs": [
    {
     "name": "stdout",
     "output_type": "stream",
     "text": [
      "8.077 1.6210709999999997\n"
     ]
    }
   ],
   "source": [
    "mean_x = np.mean(X)\n",
    "var_x = np.var(X)\n",
    "print(mean_x, var_x)"
   ]
  },
  {
   "cell_type": "code",
   "execution_count": 14,
   "id": "14f9a82e-5f0f-4951-88bc-85a1d95b7f7e",
   "metadata": {},
   "outputs": [
    {
     "data": {
      "image/png": "[encoded data removed]",
      "text/plain": [
       "<Figure size 432x288 with 1 Axes>"
      ]
     },
     "metadata": {
      "needs_background": "light"
     },
     "output_type": "display_data"
    }
   ],
   "source": [
    "import matplotlib.pyplot as plt\n",
    "plt.hist(X, bins=\"auto\")\n",
    "plt.title(\"PMF of Binomial rvs with p=0.8\")\n",
    "plt.xticks(range(0,11))\n",
    "plt.show()"
   ]
  },
  {
   "cell_type": "code",
   "execution_count": 15,
   "id": "7eb6c6af-9712-4fad-8c2b-febe6b688a0c",
   "metadata": {},
   "outputs": [
    {
     "data": {
      "image/png": "[encoded data removed]",
      "text/plain": [
       "<Figure size 432x288 with 1 Axes>"
      ]
     },
     "metadata": {
      "needs_background": "light"
     },
     "output_type": "display_data"
    }
   ],
   "source": [
    "# CDF\n",
    "import numpy as np\n",
    "import matplotlib.pyplot as plt\n",
    "import scipy.stats as stats\n",
    "p = 0.5\n",
    "n = 10\n",
    "rv = stats.binom(n,p)\n",
    "x  = np.arange(11)\n",
    "F  = rv.cdf(x)\n",
    "plt.step(x,F); \n",
    "plt.show()"
   ]
  },
  {
   "cell_type": "code",
   "execution_count": 16,
   "id": "50bb22a9-7356-4ce3-97c3-fa13360fad64",
   "metadata": {},
   "outputs": [
    {
     "name": "stdout",
     "output_type": "stream",
     "text": [
      "0.2013\n"
     ]
    }
   ],
   "source": [
    "# tropical disease example\n",
    "import scipy.stats as stats\n",
    "# define a Binom rv with n=10 and 0.8\n",
    "rv = stats.binom(n=10,p=0.8)\n",
    "# calculate the probability of success number=7\n",
    "prob = rv.pmf(k=7)\n",
    "print(\"%.4f\"%prob)"
   ]
  },
  {
   "cell_type": "code",
   "execution_count": 17,
   "id": "be3062b3-4932-4e27-be6a-5b023219cdda",
   "metadata": {},
   "outputs": [
    {
     "name": "stdout",
     "output_type": "stream",
     "text": [
      "0.4219\n"
     ]
    }
   ],
   "source": [
    "# gene example\n",
    "import scipy.stats as stats\n",
    "# define a Binom rv with n=4 and 3/4\n",
    "rv = stats.binom(n=4,p=3/4)\n",
    "# calculate the probability of success number=3\n",
    "prob = rv.pmf(k=3)\n",
    "print(\"%.4f\"%prob)"
   ]
  },
  {
   "cell_type": "markdown",
   "id": "615911f0-d17d-43ad-b5f9-07147171d1be",
   "metadata": {},
   "source": [
    "# Poisson distribution"
   ]
  },
  {
   "cell_type": "code",
   "execution_count": 18,
   "id": "c699e796-79ea-45a7-b078-ebd45d5c49ed",
   "metadata": {},
   "outputs": [
    {
     "name": "stdout",
     "output_type": "stream",
     "text": [
      "9.931 9.468238999999997\n"
     ]
    }
   ],
   "source": [
    "# Generate pseudo data from Poisson distribution with lambda = 1.\n",
    "import numpy as np\n",
    "lamb = 10  # expected successes # change this value and see the difference\n",
    "X = np.random.poisson(lam=lamb, size=1000)\n",
    "mean_x = np.mean(X)\n",
    "var_x = np.var(X)\n",
    "print(mean_x, var_x)"
   ]
  },
  {
   "cell_type": "code",
   "execution_count": 19,
   "id": "5fb16a26-36ec-43cd-b61d-dfaa01dafe12",
   "metadata": {},
   "outputs": [
    {
     "data": {
      "image/png": "[encoded data removed]",
      "text/plain": [
       "<Figure size 432x288 with 1 Axes>"
      ]
     },
     "metadata": {
      "needs_background": "light"
     },
     "output_type": "display_data"
    }
   ],
   "source": [
    "import matplotlib.pyplot as plt\n",
    "plt.hist(X, bins=\"auto\")\n",
    "plt.title(\"PMF of Poisson rvs with lambda=1\")\n",
    "plt.xticks(range(0,21))\n",
    "plt.show()"
   ]
  },
  {
   "cell_type": "code",
   "execution_count": 20,
   "id": "ad6d3042-b096-4f19-bbba-5ff58cf3a257",
   "metadata": {},
   "outputs": [
    {
     "name": "stdout",
     "output_type": "stream",
     "text": [
      "0.3935\n"
     ]
    }
   ],
   "source": [
    "# typographical example\n",
    "import scipy.stats as stats\n",
    "# define a Poisson rv with lambda=0.5\n",
    "rv = stats.poisson(0.5)\n",
    "# calculate the probability of success number is greater than or equal to 1\n",
    "prob = 1- rv.pmf(0)\n",
    "print(\"%.4f\"%prob)"
   ]
  },
  {
   "cell_type": "code",
   "execution_count": 21,
   "id": "d65b2fa5-0215-402b-8083-16a7c413b789",
   "metadata": {},
   "outputs": [
    {
     "name": "stdout",
     "output_type": "stream",
     "text": [
      "0.1550\n"
     ]
    }
   ],
   "source": [
    "# truck example\n",
    "import scipy.stats as stats\n",
    "# define a Poisson rv with lambda=12\n",
    "rv = stats.poisson(12)\n",
    "# calculate the probability of success number is less than 9\n",
    "prob = rv.cdf(8)\n",
    "print(\"%.4f\"%prob)"
   ]
  },
  {
   "cell_type": "code",
   "execution_count": 67,
   "id": "14c5285f-3669-49ce-915d-79f9ca371ebe",
   "metadata": {},
   "outputs": [
    {
     "name": "stdout",
     "output_type": "stream",
     "text": [
      "0.1714\n",
      "0.9864\n"
     ]
    }
   ],
   "source": [
    "# cdf examples\n",
    "import scipy.stats as stats\n",
    "rv1 = stats.poisson(100)\n",
    "prob1 = rv1.cdf(90)\n",
    "print(\"%.4f\"%prob1)\n",
    "rv2 = stats.poisson(1000)\n",
    "prob2 = rv2.cdf(1070)\n",
    "print(\"%.4f\"%prob2)"
   ]
  },
  {
   "cell_type": "code",
   "execution_count": 22,
   "id": "8ad1b146-458a-4164-8535-5b99d2105e45",
   "metadata": {},
   "outputs": [
    {
     "name": "stdout",
     "output_type": "stream",
     "text": [
      "0.7619\n"
     ]
    }
   ],
   "source": [
    "# earthquake\n",
    "import scipy.stats as stats\n",
    "# define a Poisson rv with lambda=4\n",
    "rv = stats.poisson(4)\n",
    "# calculate the probability of success number is greater than or equal to 3\n",
    "prob = 1-rv.cdf(2)\n",
    "print(\"%.4f\"%prob)"
   ]
  },
  {
   "cell_type": "code",
   "execution_count": 23,
   "id": "48872a6e-9fe2-4b40-a0d6-ea2c7a0b268d",
   "metadata": {},
   "outputs": [
    {
     "name": "stdout",
     "output_type": "stream",
     "text": [
      "0.0645\n"
     ]
    }
   ],
   "source": [
    "# Negative Binomial Distribution\n",
    "import scipy.stats as stats\n",
    "# define a NegBi rv with k=3, p=0.4\n",
    "rv = stats.nbinom(n=3, p=0.4)\n",
    "# be careful about how Python is defined the NegBin pmf\n",
    "# it models number of failures\n",
    "prob = rv.pmf(7)\n",
    "print(\"%.4f\"%prob)"
   ]
  },
  {
   "cell_type": "markdown",
   "id": "3d02678d-b4e8-42ba-bf37-275aa3a0a88c",
   "metadata": {},
   "source": [
    "# Geometric Distribution"
   ]
  },
  {
   "cell_type": "code",
   "execution_count": 24,
   "id": "e2db9da8-dbb6-4f7d-81cd-6ae0cd8b56f5",
   "metadata": {},
   "outputs": [
    {
     "name": "stdout",
     "output_type": "stream",
     "text": [
      "1.902 1.7783959999999996\n"
     ]
    }
   ],
   "source": [
    "# Generate pseudo data from Geometric distribution with p = 0.5.\n",
    "import numpy as np\n",
    "X = np.random.geometric(p=0.5, size=1000)\n",
    "mean_x = np.mean(X)\n",
    "var_x = np.var(X)\n",
    "print(mean_x, var_x)"
   ]
  },
  {
   "cell_type": "code",
   "execution_count": 25,
   "id": "e3c73584-c3b3-4f42-a98b-57d4bec4fa9f",
   "metadata": {},
   "outputs": [
    {
     "data": {
      "image/png": "[encoded data removed]",
      "text/plain": [
       "<Figure size 432x288 with 1 Axes>"
      ]
     },
     "metadata": {
      "needs_background": "light"
     },
     "output_type": "display_data"
    }
   ],
   "source": [
    "import matplotlib.pyplot as plt\n",
    "plt.hist(X, bins=\"auto\")\n",
    "plt.title(\"PMF of Geometric rvs with p=0.5\")\n",
    "plt.xticks(range(1,15))\n",
    "plt.show()"
   ]
  },
  {
   "cell_type": "code",
   "execution_count": 26,
   "id": "2eed0721-c069-49e5-84b5-cd64ffa5965a",
   "metadata": {},
   "outputs": [
    {
     "name": "stdout",
     "output_type": "stream",
     "text": [
      "0.0117\n"
     ]
    }
   ],
   "source": [
    "# Geometric Distribution\n",
    "import scipy.stats as stats\n",
    "# define a Geometric rv with p=0.75\n",
    "rv = stats.geom(p=0.75)\n",
    "prob = rv.pmf(4)\n",
    "print(\"%.4f\"%prob)"
   ]
  }
 ],
 "metadata": {
  "kernelspec": {
   "display_name": "Python 3 (ipykernel)",
   "language": "python",
   "name": "python3"
  },
  "language_info": {
   "codemirror_mode": {
    "name": "ipython",
    "version": 3
   },
   "file_extension": ".py",
   "mimetype": "text/x-python",
   "name": "python",
   "nbconvert_exporter": "python",
   "pygments_lexer": "ipython3",
   "version": "3.8.12"
  }
 },
 "nbformat": 4,
 "nbformat_minor": 5
}
